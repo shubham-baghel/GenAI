{
  "nbformat": 4,
  "nbformat_minor": 0,
  "metadata": {
    "colab": {
      "provenance": []
    },
    "kernelspec": {
      "name": "python3",
      "display_name": "Python 3"
    },
    "language_info": {
      "name": "python"
    }
  },
  "cells": [
    {
      "cell_type": "markdown",
      "source": [
        "List comprehension is a way to create lists using a concise syntax. It allows us to generate a new list by applying an expression to each item in an existing iterable (such as a list or range). This helps us to write cleaner, more readable code compared to traditional looping techniques."
      ],
      "metadata": {
        "id": "uNPJAQelhuGQ"
      }
    },
    {
      "cell_type": "code",
      "source": [
        "a = [1,2,3,4,5]\n",
        "square_a = [item ** 2 for item in a]\n",
        "print(square_a)"
      ],
      "metadata": {
        "colab": {
          "base_uri": "https://localhost:8080/"
        },
        "id": "MJn-23GahvK1",
        "outputId": "26000563-31e8-43e4-b948-13ab38ded61b"
      },
      "execution_count": 1,
      "outputs": [
        {
          "output_type": "stream",
          "name": "stdout",
          "text": [
            "[1, 4, 9, 16, 25]\n"
          ]
        }
      ]
    },
    {
      "cell_type": "code",
      "source": [
        "#with some filter condition on elements\n",
        "a = [1,2,3,4,5]\n",
        "square_a = [item ** 2 for item in a if item % 2 != 0]\n",
        "print(square_a)"
      ],
      "metadata": {
        "colab": {
          "base_uri": "https://localhost:8080/"
        },
        "id": "KYPh43Pch9qq",
        "outputId": "3cd92865-a47c-4908-d3b2-e8af344b390e"
      },
      "execution_count": 2,
      "outputs": [
        {
          "output_type": "stream",
          "name": "stdout",
          "text": [
            "[1, 9, 25]\n"
          ]
        }
      ]
    },
    {
      "cell_type": "code",
      "source": [
        "list_using_range = [i for i in range(0, 10)]\n",
        "print(list_using_range)"
      ],
      "metadata": {
        "colab": {
          "base_uri": "https://localhost:8080/"
        },
        "id": "00SgdVlZiRyl",
        "outputId": "03a9106b-197a-4b4c-ee3a-c74d7bea4985"
      },
      "execution_count": 3,
      "outputs": [
        {
          "output_type": "stream",
          "name": "stdout",
          "text": [
            "[0, 1, 2, 3, 4, 5, 6, 7, 8, 9]\n"
          ]
        }
      ]
    },
    {
      "cell_type": "code",
      "source": [
        "# nested loop in list comprehension\n",
        "nested_list = [[x,y] for x in range(3) for y in range(3,6)]\n",
        "print(nested_list)"
      ],
      "metadata": {
        "colab": {
          "base_uri": "https://localhost:8080/"
        },
        "id": "_OMENlj4iptv",
        "outputId": "278bb73c-9720-4be1-9314-274a0ad22c66"
      },
      "execution_count": 7,
      "outputs": [
        {
          "output_type": "stream",
          "name": "stdout",
          "text": [
            "[[0, 3], [0, 4], [0, 5], [1, 3], [1, 4], [1, 5], [2, 3], [2, 4], [2, 5]]\n"
          ]
        }
      ]
    },
    {
      "cell_type": "markdown",
      "source": [
        "We can create dictionaries using simple expressions. A dictionary comprehension takes the form {key: value for (key, value) in iterable}"
      ],
      "metadata": {
        "id": "66swvYrTnOYI"
      }
    },
    {
      "cell_type": "markdown",
      "source": [
        "zip function is used to combine multiple iterator and iterate over them simultaneously"
      ],
      "metadata": {
        "id": "jETIWNJ2o0UH"
      }
    },
    {
      "cell_type": "code",
      "source": [
        "key_list = ['a', 'b', 'c']\n",
        "val_list = [1,2,3]\n",
        "dic = {k:v for (k,v) in zip(key_list, val_list)}\n",
        "print(dic)"
      ],
      "metadata": {
        "colab": {
          "base_uri": "https://localhost:8080/"
        },
        "id": "c0rE5bevjCyB",
        "outputId": "46b86eb0-78bb-41df-ca70-dec63e1dc84b"
      },
      "execution_count": 8,
      "outputs": [
        {
          "output_type": "stream",
          "name": "stdout",
          "text": [
            "{'a': 1, 'b': 2, 'c': 3}\n"
          ]
        }
      ]
    },
    {
      "cell_type": "code",
      "source": [
        "dic=dict.fromkeys(range(5), \"x\")\n",
        "\n",
        "print(dic)"
      ],
      "metadata": {
        "colab": {
          "base_uri": "https://localhost:8080/"
        },
        "id": "yohitvPDnoGK",
        "outputId": "895a261c-39f3-45d4-8a5b-7d4438959073"
      },
      "execution_count": 11,
      "outputs": [
        {
          "output_type": "stream",
          "name": "stdout",
          "text": [
            "{0: 'x', 1: 'x', 2: 'x', 3: 'x', 4: 'x'}\n"
          ]
        }
      ]
    },
    {
      "cell_type": "markdown",
      "source": [
        "\n",
        "**Lambda Function**"
      ],
      "metadata": {
        "id": "bnXiHtPcpKJR"
      }
    },
    {
      "cell_type": "code",
      "source": [
        "calc = lambda num: \"odd\" if num % 2 != 0 else \"even\"\n",
        "print(calc(3))"
      ],
      "metadata": {
        "colab": {
          "base_uri": "https://localhost:8080/"
        },
        "id": "LnVrG9RTn6k-",
        "outputId": "0548f19e-2be1-49ac-daa0-ff84ecf48020"
      },
      "execution_count": 12,
      "outputs": [
        {
          "output_type": "stream",
          "name": "stdout",
          "text": [
            "odd\n"
          ]
        }
      ]
    },
    {
      "cell_type": "markdown",
      "source": [
        "**This function can have any number of arguments but only one expression, which is evaluated and returned**"
      ],
      "metadata": {
        "id": "UKXLjLk_pliP"
      }
    },
    {
      "cell_type": "code",
      "source": [
        "filter_nums = lambda s: ''.join([ch for ch in s if not ch.isdigit()])\n",
        "print(\"filter_nums():\", filter_nums(\"Geeks101\"))\n",
        "\n",
        "do_exclaim = lambda s: s + '!'\n",
        "print(\"do_exclaim():\", do_exclaim(\"I am tired\"))\n",
        "\n",
        "find_sum = lambda n: sum([int(x) for x in str(n)])\n",
        "print(\"find_sum():\", find_sum(101))"
      ],
      "metadata": {
        "colab": {
          "base_uri": "https://localhost:8080/"
        },
        "id": "IO7XQpKwpb66",
        "outputId": "a924ebc8-a41a-448f-93b3-609bf47400f2"
      },
      "execution_count": 13,
      "outputs": [
        {
          "output_type": "stream",
          "name": "stdout",
          "text": [
            "filter_nums(): Geeks\n",
            "do_exclaim(): I am tired!\n",
            "find_sum(): 2\n"
          ]
        }
      ]
    },
    {
      "cell_type": "markdown",
      "source": [
        "**The lambda function gets more helpful when used inside a function.**"
      ],
      "metadata": {
        "id": "sx8nyNXDqd7k"
      }
    },
    {
      "cell_type": "code",
      "source": [
        "l = [\"1\", \"2\", \"9\", \"0\", \"-1\", \"-2\"]\n",
        "# sort list[str] numerically using sorted()\n",
        "# and custom sorting key using lambda\n",
        "print(\"Sorted numerically:\",\n",
        "      sorted(l, key=lambda x: int(x)))\n",
        "\n",
        "# filter positive even numbers\n",
        "# using filter() and lambda function\n",
        "print(\"Filtered positive even numbers:\",\n",
        "      list(filter(lambda x: not (int(x) % 2 == 0 and int(x) > 0), l)))\n",
        "\n",
        "# added 10 to each item after type and\n",
        "# casting to int, then convert items to string again\n",
        "print(\"Operation on each item using lambda and map()\",\n",
        "      list(map(lambda x: str(int(x) + 10), l)))"
      ],
      "metadata": {
        "colab": {
          "base_uri": "https://localhost:8080/"
        },
        "id": "ghLxWXA6qKvj",
        "outputId": "d12bf902-cbe9-422b-e366-4d49f5b16ffe"
      },
      "execution_count": 14,
      "outputs": [
        {
          "output_type": "stream",
          "name": "stdout",
          "text": [
            "Sorted numerically: ['-2', '-1', '0', '1', '2', '9']\n",
            "Filtered positive even numbers: ['1', '9', '0', '-1', '-2']\n",
            "Operation on each item using lambda and map() ['11', '12', '19', '10', '9', '8']\n"
          ]
        }
      ]
    },
    {
      "cell_type": "code",
      "source": [
        "# find even number from a list using lambda\n",
        "\n",
        "my_list = [1,2,3,4,5]\n",
        "even_list = list(filter(lambda x: x % 2 == 0, my_list))\n",
        "print(even_list)"
      ],
      "metadata": {
        "colab": {
          "base_uri": "https://localhost:8080/"
        },
        "id": "3FvOz_A6rANz",
        "outputId": "a8d7d53d-5e0f-4e47-e6bd-5657c7242f2f"
      },
      "execution_count": 17,
      "outputs": [
        {
          "output_type": "stream",
          "name": "stdout",
          "text": [
            "[2, 4]\n"
          ]
        }
      ]
    },
    {
      "cell_type": "markdown",
      "source": [
        "**The filter() method filters the given sequence with the help of a function that tests each element in the sequence to be true or not.**"
      ],
      "metadata": {
        "id": "aEY_gAUssXFv"
      }
    },
    {
      "cell_type": "code",
      "source": [
        "my_list = ['a', 'b','e', 'l', 'u', 't']\n",
        "filter_vowel = list(filter(lambda x: x in ['a', 'e', 'i', 'o', 'u'] ,my_list))\n",
        "print(filter_vowel)"
      ],
      "metadata": {
        "colab": {
          "base_uri": "https://localhost:8080/"
        },
        "id": "fn9_83wZr2LH",
        "outputId": "9fdfa78e-15d5-4601-89e8-fe84e3de40bc"
      },
      "execution_count": 19,
      "outputs": [
        {
          "output_type": "stream",
          "name": "stdout",
          "text": [
            "['a', 'e', 'u']\n"
          ]
        }
      ]
    },
    {
      "cell_type": "code",
      "source": [
        "# Define a function to check\n",
        "# if a number is a multiple of 3\n",
        "def is_multiple_of_3(num):\n",
        "    return num % 3 == 0\n",
        "\n",
        "\n",
        "# Create a list of numbers to filter\n",
        "numbers = [1, 2, 3, 4, 5, 6, 7, 8, 9, 10]\n",
        "\n",
        "# Use filter and a lambda function to\n",
        "# filter the list of numbers and only\n",
        "# keep the ones that are multiples of 3\n",
        "result = list(filter(is_multiple_of_3, numbers))\n",
        "\n",
        "# Print the result\n",
        "print(result)"
      ],
      "metadata": {
        "colab": {
          "base_uri": "https://localhost:8080/"
        },
        "id": "Dvy9IQ3wtmfO",
        "outputId": "3715b184-edf2-4814-e5f3-46e4f9e13451"
      },
      "execution_count": 21,
      "outputs": [
        {
          "output_type": "stream",
          "name": "stdout",
          "text": [
            "[3, 6, 9]\n"
          ]
        }
      ]
    },
    {
      "cell_type": "markdown",
      "source": [
        "The reduce(fun,seq) function is used to apply a particular function passed in its argument to all of the list elements mentioned in the sequence passed along.This function is defined in “functools” module."
      ],
      "metadata": {
        "id": "aIDpFkvIvcxx"
      }
    },
    {
      "cell_type": "code",
      "source": [
        "from functools import reduce\n",
        "\n",
        "sum_reduce = reduce(lambda x,y: x*y, [1,2,3])\n",
        "\n",
        "find_max =reduce(lambda x, y: x if x > y else y, [9,2,4,10,4,6] )\n",
        "\n",
        "print(sum_reduce)\n",
        "print(\"max_element\", find_max)"
      ],
      "metadata": {
        "colab": {
          "base_uri": "https://localhost:8080/"
        },
        "id": "FjatTwjIuBRU",
        "outputId": "56ad4e51-6f87-404b-86e0-906771e82cb0"
      },
      "execution_count": 25,
      "outputs": [
        {
          "output_type": "stream",
          "name": "stdout",
          "text": [
            "6\n",
            "max_element 10\n"
          ]
        }
      ]
    },
    {
      "cell_type": "markdown",
      "source": [
        "The map() function is used to apply a given function to every item of an iterable, such as a list or tuple, and returns a map object (which is an iterator)."
      ],
      "metadata": {
        "id": "vfbN6tlLxhvz"
      }
    },
    {
      "cell_type": "code",
      "source": [
        "s = ['1', '2', '3', '4']\n",
        "res = map(int, s)\n",
        "print(list(res))"
      ],
      "metadata": {
        "colab": {
          "base_uri": "https://localhost:8080/"
        },
        "id": "gPedTOFzvq_6",
        "outputId": "5c2bd5a5-727f-4d0d-846f-2484cb678882"
      },
      "execution_count": 26,
      "outputs": [
        {
          "output_type": "stream",
          "name": "stdout",
          "text": [
            "[1, 2, 3, 4]\n"
          ]
        }
      ]
    },
    {
      "cell_type": "code",
      "source": [
        "a = [1, 2, 3, 4]\n",
        "\n",
        "# Using lambda function in \"function\" parameter\n",
        "# to double each number in the list\n",
        "res = list(map(lambda x: x * 2, a))\n",
        "print(res)"
      ],
      "metadata": {
        "colab": {
          "base_uri": "https://localhost:8080/"
        },
        "id": "Wmk1jzOnxksP",
        "outputId": "77897bc5-ce01-4d5b-c77b-e60c781c7e28"
      },
      "execution_count": 27,
      "outputs": [
        {
          "output_type": "stream",
          "name": "stdout",
          "text": [
            "[2, 4, 6, 8]\n"
          ]
        }
      ]
    },
    {
      "cell_type": "code",
      "source": [
        "a = [1, 2, 3]\n",
        "b = [4, 5, 6]\n",
        "res = map(lambda x, y: x + y, a, b)\n",
        "print(list(res))"
      ],
      "metadata": {
        "colab": {
          "base_uri": "https://localhost:8080/"
        },
        "id": "Fh_c-q1ox4He",
        "outputId": "c653ba7c-1dc4-4570-daee-e7a992b07b58"
      },
      "execution_count": 28,
      "outputs": [
        {
          "output_type": "stream",
          "name": "stdout",
          "text": [
            "[5, 7, 9]\n"
          ]
        }
      ]
    },
    {
      "cell_type": "markdown",
      "source": [
        "Recursion"
      ],
      "metadata": {
        "id": "VPeHfOJA0ldH"
      }
    },
    {
      "cell_type": "code",
      "source": [
        "def fact(n):\n",
        "  if n == 1:\n",
        "    return 1\n",
        "  else:\n",
        "    return n*fact(n-1)\n",
        "\n",
        "print(fact(6))"
      ],
      "metadata": {
        "colab": {
          "base_uri": "https://localhost:8080/"
        },
        "id": "gksS7AqDyHjZ",
        "outputId": "b25f2d0e-f11b-44fd-aeb8-23eca557acb1"
      },
      "execution_count": 30,
      "outputs": [
        {
          "output_type": "stream",
          "name": "stdout",
          "text": [
            "720\n"
          ]
        }
      ]
    },
    {
      "cell_type": "code",
      "source": [],
      "metadata": {
        "id": "Ga7AGjjQ0zca"
      },
      "execution_count": null,
      "outputs": []
    }
  ]
}
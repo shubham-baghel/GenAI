{
  "nbformat": 4,
  "nbformat_minor": 0,
  "metadata": {
    "colab": {
      "provenance": []
    },
    "kernelspec": {
      "name": "python3",
      "display_name": "Python 3"
    },
    "language_info": {
      "name": "python"
    }
  },
  "cells": [
    {
      "cell_type": "markdown",
      "source": [
        "List comprehension is a way to create lists using a concise syntax. It allows us to generate a new list by applying an expression to each item in an existing iterable (such as a list or range). This helps us to write cleaner, more readable code compared to traditional looping techniques."
      ],
      "metadata": {
        "id": "uNPJAQelhuGQ"
      }
    },
    {
      "cell_type": "code",
      "source": [
        "a = [1,2,3,4,5]\n",
        "square_a = [item ** 2 for item in a]\n",
        "print(square_a)"
      ],
      "metadata": {
        "colab": {
          "base_uri": "https://localhost:8080/"
        },
        "id": "MJn-23GahvK1",
        "outputId": "26000563-31e8-43e4-b948-13ab38ded61b"
      },
      "execution_count": null,
      "outputs": [
        {
          "output_type": "stream",
          "name": "stdout",
          "text": [
            "[1, 4, 9, 16, 25]\n"
          ]
        }
      ]
    },
    {
      "cell_type": "code",
      "source": [
        "#with some filter condition on elements\n",
        "a = [1,2,3,4,5]\n",
        "square_a = [item ** 2 for item in a if item % 2 != 0]\n",
        "print(square_a)"
      ],
      "metadata": {
        "colab": {
          "base_uri": "https://localhost:8080/"
        },
        "id": "KYPh43Pch9qq",
        "outputId": "3cd92865-a47c-4908-d3b2-e8af344b390e"
      },
      "execution_count": null,
      "outputs": [
        {
          "output_type": "stream",
          "name": "stdout",
          "text": [
            "[1, 9, 25]\n"
          ]
        }
      ]
    },
    {
      "cell_type": "code",
      "source": [
        "list_using_range = [i for i in range(0, 10)]\n",
        "print(list_using_range)"
      ],
      "metadata": {
        "colab": {
          "base_uri": "https://localhost:8080/"
        },
        "id": "00SgdVlZiRyl",
        "outputId": "03a9106b-197a-4b4c-ee3a-c74d7bea4985"
      },
      "execution_count": null,
      "outputs": [
        {
          "output_type": "stream",
          "name": "stdout",
          "text": [
            "[0, 1, 2, 3, 4, 5, 6, 7, 8, 9]\n"
          ]
        }
      ]
    },
    {
      "cell_type": "code",
      "source": [
        "# nested loop in list comprehension\n",
        "nested_list = [[x,y] for x in range(3) for y in range(3,6)]\n",
        "print(nested_list)"
      ],
      "metadata": {
        "colab": {
          "base_uri": "https://localhost:8080/"
        },
        "id": "_OMENlj4iptv",
        "outputId": "278bb73c-9720-4be1-9314-274a0ad22c66"
      },
      "execution_count": null,
      "outputs": [
        {
          "output_type": "stream",
          "name": "stdout",
          "text": [
            "[[0, 3], [0, 4], [0, 5], [1, 3], [1, 4], [1, 5], [2, 3], [2, 4], [2, 5]]\n"
          ]
        }
      ]
    },
    {
      "cell_type": "markdown",
      "source": [
        "We can create dictionaries using simple expressions. A dictionary comprehension takes the form {key: value for (key, value) in iterable}"
      ],
      "metadata": {
        "id": "66swvYrTnOYI"
      }
    },
    {
      "cell_type": "markdown",
      "source": [
        "zip function is used to combine multiple iterator and iterate over them simultaneously"
      ],
      "metadata": {
        "id": "jETIWNJ2o0UH"
      }
    },
    {
      "cell_type": "code",
      "source": [
        "key_list = ['a', 'b', 'c']\n",
        "val_list = [1,2,3]\n",
        "dic = {k:v for (k,v) in zip(key_list, val_list)}\n",
        "print(dic)"
      ],
      "metadata": {
        "colab": {
          "base_uri": "https://localhost:8080/"
        },
        "id": "c0rE5bevjCyB",
        "outputId": "46b86eb0-78bb-41df-ca70-dec63e1dc84b"
      },
      "execution_count": null,
      "outputs": [
        {
          "output_type": "stream",
          "name": "stdout",
          "text": [
            "{'a': 1, 'b': 2, 'c': 3}\n"
          ]
        }
      ]
    },
    {
      "cell_type": "code",
      "source": [
        "dic=dict.fromkeys(range(5), \"x\")\n",
        "\n",
        "print(dic)"
      ],
      "metadata": {
        "colab": {
          "base_uri": "https://localhost:8080/"
        },
        "id": "yohitvPDnoGK",
        "outputId": "895a261c-39f3-45d4-8a5b-7d4438959073"
      },
      "execution_count": null,
      "outputs": [
        {
          "output_type": "stream",
          "name": "stdout",
          "text": [
            "{0: 'x', 1: 'x', 2: 'x', 3: 'x', 4: 'x'}\n"
          ]
        }
      ]
    },
    {
      "cell_type": "markdown",
      "source": [
        "\n",
        "**Lambda Function**"
      ],
      "metadata": {
        "id": "bnXiHtPcpKJR"
      }
    },
    {
      "cell_type": "code",
      "source": [
        "calc = lambda num: \"odd\" if num % 2 != 0 else \"even\"\n",
        "print(calc(3))"
      ],
      "metadata": {
        "colab": {
          "base_uri": "https://localhost:8080/"
        },
        "id": "LnVrG9RTn6k-",
        "outputId": "0548f19e-2be1-49ac-daa0-ff84ecf48020"
      },
      "execution_count": null,
      "outputs": [
        {
          "output_type": "stream",
          "name": "stdout",
          "text": [
            "odd\n"
          ]
        }
      ]
    },
    {
      "cell_type": "markdown",
      "source": [
        "**This function can have any number of arguments but only one expression, which is evaluated and returned**"
      ],
      "metadata": {
        "id": "UKXLjLk_pliP"
      }
    },
    {
      "cell_type": "code",
      "source": [
        "filter_nums = lambda s: ''.join([ch for ch in s if not ch.isdigit()])\n",
        "print(\"filter_nums():\", filter_nums(\"Geeks101\"))\n",
        "\n",
        "do_exclaim = lambda s: s + '!'\n",
        "print(\"do_exclaim():\", do_exclaim(\"I am tired\"))\n",
        "\n",
        "find_sum = lambda n: sum([int(x) for x in str(n)])\n",
        "print(\"find_sum():\", find_sum(101))"
      ],
      "metadata": {
        "colab": {
          "base_uri": "https://localhost:8080/"
        },
        "id": "IO7XQpKwpb66",
        "outputId": "a924ebc8-a41a-448f-93b3-609bf47400f2"
      },
      "execution_count": null,
      "outputs": [
        {
          "output_type": "stream",
          "name": "stdout",
          "text": [
            "filter_nums(): Geeks\n",
            "do_exclaim(): I am tired!\n",
            "find_sum(): 2\n"
          ]
        }
      ]
    },
    {
      "cell_type": "markdown",
      "source": [
        "**The lambda function gets more helpful when used inside a function.**"
      ],
      "metadata": {
        "id": "sx8nyNXDqd7k"
      }
    },
    {
      "cell_type": "code",
      "source": [
        "l = [\"1\", \"2\", \"9\", \"0\", \"-1\", \"-2\"]\n",
        "# sort list[str] numerically using sorted()\n",
        "# and custom sorting key using lambda\n",
        "print(\"Sorted numerically:\",\n",
        "      sorted(l, key=lambda x: int(x)))\n",
        "\n",
        "# filter positive even numbers\n",
        "# using filter() and lambda function\n",
        "print(\"Filtered positive even numbers:\",\n",
        "      list(filter(lambda x: not (int(x) % 2 == 0 and int(x) > 0), l)))\n",
        "\n",
        "# added 10 to each item after type and\n",
        "# casting to int, then convert items to string again\n",
        "print(\"Operation on each item using lambda and map()\",\n",
        "      list(map(lambda x: str(int(x) + 10), l)))"
      ],
      "metadata": {
        "colab": {
          "base_uri": "https://localhost:8080/"
        },
        "id": "ghLxWXA6qKvj",
        "outputId": "d12bf902-cbe9-422b-e366-4d49f5b16ffe"
      },
      "execution_count": null,
      "outputs": [
        {
          "output_type": "stream",
          "name": "stdout",
          "text": [
            "Sorted numerically: ['-2', '-1', '0', '1', '2', '9']\n",
            "Filtered positive even numbers: ['1', '9', '0', '-1', '-2']\n",
            "Operation on each item using lambda and map() ['11', '12', '19', '10', '9', '8']\n"
          ]
        }
      ]
    },
    {
      "cell_type": "code",
      "source": [
        "# find even number from a list using lambda\n",
        "\n",
        "my_list = [1,2,3,4,5]\n",
        "even_list = list(filter(lambda x: x % 2 == 0, my_list))\n",
        "print(even_list)"
      ],
      "metadata": {
        "colab": {
          "base_uri": "https://localhost:8080/"
        },
        "id": "3FvOz_A6rANz",
        "outputId": "a8d7d53d-5e0f-4e47-e6bd-5657c7242f2f"
      },
      "execution_count": null,
      "outputs": [
        {
          "output_type": "stream",
          "name": "stdout",
          "text": [
            "[2, 4]\n"
          ]
        }
      ]
    },
    {
      "cell_type": "markdown",
      "source": [
        "**The filter() method filters the given sequence with the help of a function that tests each element in the sequence to be true or not.**"
      ],
      "metadata": {
        "id": "aEY_gAUssXFv"
      }
    },
    {
      "cell_type": "code",
      "source": [
        "my_list = ['a', 'b','e', 'l', 'u', 't']\n",
        "filter_vowel = list(filter(lambda x: x in ['a', 'e', 'i', 'o', 'u'] ,my_list))\n",
        "print(filter_vowel)"
      ],
      "metadata": {
        "colab": {
          "base_uri": "https://localhost:8080/"
        },
        "id": "fn9_83wZr2LH",
        "outputId": "9fdfa78e-15d5-4601-89e8-fe84e3de40bc"
      },
      "execution_count": null,
      "outputs": [
        {
          "output_type": "stream",
          "name": "stdout",
          "text": [
            "['a', 'e', 'u']\n"
          ]
        }
      ]
    },
    {
      "cell_type": "code",
      "source": [
        "# Define a function to check\n",
        "# if a number is a multiple of 3\n",
        "def is_multiple_of_3(num):\n",
        "    return num % 3 == 0\n",
        "\n",
        "\n",
        "# Create a list of numbers to filter\n",
        "numbers = [1, 2, 3, 4, 5, 6, 7, 8, 9, 10]\n",
        "\n",
        "# Use filter and a lambda function to\n",
        "# filter the list of numbers and only\n",
        "# keep the ones that are multiples of 3\n",
        "result = list(filter(is_multiple_of_3, numbers))\n",
        "\n",
        "# Print the result\n",
        "print(result)"
      ],
      "metadata": {
        "colab": {
          "base_uri": "https://localhost:8080/"
        },
        "id": "Dvy9IQ3wtmfO",
        "outputId": "3715b184-edf2-4814-e5f3-46e4f9e13451"
      },
      "execution_count": null,
      "outputs": [
        {
          "output_type": "stream",
          "name": "stdout",
          "text": [
            "[3, 6, 9]\n"
          ]
        }
      ]
    },
    {
      "cell_type": "markdown",
      "source": [
        "The reduce(fun,seq) function is used to apply a particular function passed in its argument to all of the list elements mentioned in the sequence passed along.This function is defined in “functools” module."
      ],
      "metadata": {
        "id": "aIDpFkvIvcxx"
      }
    },
    {
      "cell_type": "code",
      "source": [
        "from functools import reduce\n",
        "\n",
        "sum_reduce = reduce(lambda x,y: x*y, [1,2,3])\n",
        "\n",
        "find_max =reduce(lambda x, y: x if x > y else y, [9,2,4,10,4,6] )\n",
        "\n",
        "print(sum_reduce)\n",
        "print(\"max_element\", find_max)"
      ],
      "metadata": {
        "colab": {
          "base_uri": "https://localhost:8080/"
        },
        "id": "FjatTwjIuBRU",
        "outputId": "56ad4e51-6f87-404b-86e0-906771e82cb0"
      },
      "execution_count": null,
      "outputs": [
        {
          "output_type": "stream",
          "name": "stdout",
          "text": [
            "6\n",
            "max_element 10\n"
          ]
        }
      ]
    },
    {
      "cell_type": "markdown",
      "source": [
        "The map() function is used to apply a given function to every item of an iterable, such as a list or tuple, and returns a map object (which is an iterator)."
      ],
      "metadata": {
        "id": "vfbN6tlLxhvz"
      }
    },
    {
      "cell_type": "code",
      "source": [
        "s = ['1', '2', '3', '4']\n",
        "res = map(int, s)\n",
        "print(list(res))"
      ],
      "metadata": {
        "colab": {
          "base_uri": "https://localhost:8080/"
        },
        "id": "gPedTOFzvq_6",
        "outputId": "5c2bd5a5-727f-4d0d-846f-2484cb678882"
      },
      "execution_count": null,
      "outputs": [
        {
          "output_type": "stream",
          "name": "stdout",
          "text": [
            "[1, 2, 3, 4]\n"
          ]
        }
      ]
    },
    {
      "cell_type": "code",
      "source": [
        "a = [1, 2, 3, 4]\n",
        "\n",
        "# Using lambda function in \"function\" parameter\n",
        "# to double each number in the list\n",
        "res = list(map(lambda x: x * 2, a))\n",
        "print(res)"
      ],
      "metadata": {
        "colab": {
          "base_uri": "https://localhost:8080/"
        },
        "id": "Wmk1jzOnxksP",
        "outputId": "77897bc5-ce01-4d5b-c77b-e60c781c7e28"
      },
      "execution_count": null,
      "outputs": [
        {
          "output_type": "stream",
          "name": "stdout",
          "text": [
            "[2, 4, 6, 8]\n"
          ]
        }
      ]
    },
    {
      "cell_type": "code",
      "source": [
        "a = [1, 2, 3]\n",
        "b = [4, 5, 6]\n",
        "res = map(lambda x, y: x + y, a, b)\n",
        "print(list(res))"
      ],
      "metadata": {
        "colab": {
          "base_uri": "https://localhost:8080/"
        },
        "id": "Fh_c-q1ox4He",
        "outputId": "c653ba7c-1dc4-4570-daee-e7a992b07b58"
      },
      "execution_count": null,
      "outputs": [
        {
          "output_type": "stream",
          "name": "stdout",
          "text": [
            "[5, 7, 9]\n"
          ]
        }
      ]
    },
    {
      "cell_type": "markdown",
      "source": [
        "Recursion"
      ],
      "metadata": {
        "id": "VPeHfOJA0ldH"
      }
    },
    {
      "cell_type": "code",
      "source": [
        "def fact(n):\n",
        "  if n == 1:\n",
        "    return 1\n",
        "  else:\n",
        "    return n*fact(n-1)\n",
        "\n",
        "print(fact(6))"
      ],
      "metadata": {
        "colab": {
          "base_uri": "https://localhost:8080/"
        },
        "id": "gksS7AqDyHjZ",
        "outputId": "b25f2d0e-f11b-44fd-aeb8-23eca557acb1"
      },
      "execution_count": null,
      "outputs": [
        {
          "output_type": "stream",
          "name": "stdout",
          "text": [
            "720\n"
          ]
        }
      ]
    },
    {
      "cell_type": "markdown",
      "source": [
        "Classes and Objects - OOps concpets"
      ],
      "metadata": {
        "id": "UT75fkJLkYph"
      }
    },
    {
      "cell_type": "code",
      "source": [
        "class GFG:\n",
        "    def __init__(self, name, company):\n",
        "        self.name = name\n",
        "        self.company = company\n",
        "\n",
        "    def __str__(self):\n",
        "        return f\"My name is {self.name} and I work in {self.company}.\"\n",
        "\n",
        "\n",
        "my_obj = GFG(\"John\", \"GeeksForGeeks\")\n",
        "print(my_obj)"
      ],
      "metadata": {
        "colab": {
          "base_uri": "https://localhost:8080/"
        },
        "id": "Ga7AGjjQ0zca",
        "outputId": "713d7f11-17a7-4547-edff-af1cfc06bd3b"
      },
      "execution_count": null,
      "outputs": [
        {
          "output_type": "stream",
          "name": "stdout",
          "text": [
            "My name is John and I work in GeeksForGeeks.\n"
          ]
        }
      ]
    },
    {
      "cell_type": "code",
      "source": [
        "class GFG:\n",
        "    def __init__(self, name, company):\n",
        "        self.name = name\n",
        "        self.company = company\n",
        "\n",
        "my_obj = GFG(\"John\", \"GeeksForGeeks\")\n",
        "print(my_obj)"
      ],
      "metadata": {
        "colab": {
          "base_uri": "https://localhost:8080/"
        },
        "id": "rNYh3_U9kcfz",
        "outputId": "bd9fcd89-736c-4d8b-d5b6-d40a73c27ed7"
      },
      "execution_count": null,
      "outputs": [
        {
          "output_type": "stream",
          "name": "stdout",
          "text": [
            "<__main__.GFG object at 0x7c1bd6c0dc00>\n"
          ]
        }
      ]
    },
    {
      "cell_type": "code",
      "source": [
        "class A:\n",
        "    def __init__(self, n='Rahul'):\n",
        "        self.name = n\n",
        "\n",
        "class B(A):\n",
        "    def __init__(self, roll):\n",
        "        self.roll = roll\n",
        "\n",
        "object = B(23)\n",
        "print(object.name)"
      ],
      "metadata": {
        "colab": {
          "base_uri": "https://localhost:8080/",
          "height": 176
        },
        "id": "yhwT3C6LkgBg",
        "outputId": "23998af8-cf51-49fc-d591-4d0b9e46cc83"
      },
      "execution_count": null,
      "outputs": [
        {
          "output_type": "error",
          "ename": "AttributeError",
          "evalue": "'B' object has no attribute 'name'",
          "traceback": [
            "\u001b[0;31m---------------------------------------------------------------------------\u001b[0m",
            "\u001b[0;31mAttributeError\u001b[0m                            Traceback (most recent call last)",
            "\u001b[0;32m<ipython-input-3-4e4c025daeb1>\u001b[0m in \u001b[0;36m<cell line: 10>\u001b[0;34m()\u001b[0m\n\u001b[1;32m      8\u001b[0m \u001b[0;34m\u001b[0m\u001b[0m\n\u001b[1;32m      9\u001b[0m \u001b[0mobject\u001b[0m \u001b[0;34m=\u001b[0m \u001b[0mB\u001b[0m\u001b[0;34m(\u001b[0m\u001b[0;36m23\u001b[0m\u001b[0;34m)\u001b[0m\u001b[0;34m\u001b[0m\u001b[0;34m\u001b[0m\u001b[0m\n\u001b[0;32m---> 10\u001b[0;31m \u001b[0mprint\u001b[0m\u001b[0;34m(\u001b[0m\u001b[0mobject\u001b[0m\u001b[0;34m.\u001b[0m\u001b[0mname\u001b[0m\u001b[0;34m)\u001b[0m\u001b[0;34m\u001b[0m\u001b[0;34m\u001b[0m\u001b[0m\n\u001b[0m",
            "\u001b[0;31mAttributeError\u001b[0m: 'B' object has no attribute 'name'"
          ]
        }
      ]
    },
    {
      "cell_type": "code",
      "source": [
        "class A:\n",
        "    def __init__(self, n='Rahul'):\n",
        "        self.name = n\n",
        "\n",
        "class B(A):\n",
        "    def __init__(self, roll):\n",
        "        self.roll = roll\n",
        "        super().__init__(\"Rahul\")\n",
        "\n",
        "object = B(23)\n",
        "print(object.name)"
      ],
      "metadata": {
        "colab": {
          "base_uri": "https://localhost:8080/"
        },
        "id": "rgt1KA6fnIq0",
        "outputId": "d340fa41-8a7f-4387-b3e9-94f205d2093b"
      },
      "execution_count": null,
      "outputs": [
        {
          "output_type": "stream",
          "name": "stdout",
          "text": [
            "Rahul\n"
          ]
        }
      ]
    },
    {
      "cell_type": "markdown",
      "source": [
        "Add __ before variable name to make it private to the class"
      ],
      "metadata": {
        "id": "ti4gjnk2ojiQ"
      }
    },
    {
      "cell_type": "code",
      "source": [
        "# Python program to demonstrate private members\n",
        "# of the parent class\n",
        "\n",
        "class C():\n",
        "    def __init__(self):\n",
        "        self.c = 21\n",
        "\n",
        "        # d is private instance variable\n",
        "        self.__d = 42\n",
        "\n",
        "\n",
        "class D(C):\n",
        "    def __init__(self):\n",
        "        self.e = 84\n",
        "        C.__init__(self)\n",
        "\n",
        "object1 = D()\n",
        "\n",
        "# produces an error as d is private instance variable\n",
        "print(object1.c)\n",
        "print(object1.__d)"
      ],
      "metadata": {
        "colab": {
          "base_uri": "https://localhost:8080/",
          "height": 193
        },
        "id": "Ln8Z1yEVoiCt",
        "outputId": "115f4f96-821d-455e-c516-08d560eda00f"
      },
      "execution_count": null,
      "outputs": [
        {
          "output_type": "stream",
          "name": "stdout",
          "text": [
            "21\n"
          ]
        },
        {
          "output_type": "error",
          "ename": "AttributeError",
          "evalue": "'D' object has no attribute '__d'",
          "traceback": [
            "\u001b[0;31m---------------------------------------------------------------------------\u001b[0m",
            "\u001b[0;31mAttributeError\u001b[0m                            Traceback (most recent call last)",
            "\u001b[0;32m<ipython-input-9-e52736448ab2>\u001b[0m in \u001b[0;36m<cell line: 21>\u001b[0;34m()\u001b[0m\n\u001b[1;32m     19\u001b[0m \u001b[0;31m# produces an error as d is private instance variable\u001b[0m\u001b[0;34m\u001b[0m\u001b[0;34m\u001b[0m\u001b[0m\n\u001b[1;32m     20\u001b[0m \u001b[0mprint\u001b[0m\u001b[0;34m(\u001b[0m\u001b[0mobject1\u001b[0m\u001b[0;34m.\u001b[0m\u001b[0mc\u001b[0m\u001b[0;34m)\u001b[0m\u001b[0;34m\u001b[0m\u001b[0;34m\u001b[0m\u001b[0m\n\u001b[0;32m---> 21\u001b[0;31m \u001b[0mprint\u001b[0m\u001b[0;34m(\u001b[0m\u001b[0mobject1\u001b[0m\u001b[0;34m.\u001b[0m\u001b[0m__d\u001b[0m\u001b[0;34m)\u001b[0m\u001b[0;34m\u001b[0m\u001b[0;34m\u001b[0m\u001b[0m\n\u001b[0m",
            "\u001b[0;31mAttributeError\u001b[0m: 'D' object has no attribute '__d'"
          ]
        }
      ]
    },
    {
      "cell_type": "code",
      "source": [
        "# Python Program illustrate how\n",
        "# to overload an binary + operator\n",
        "# And how it actually works\n",
        "\n",
        "class A:\n",
        "    def __init__(self, a):\n",
        "        self.a = a\n",
        "\n",
        "    # adding two objects\n",
        "    def __add__(self, o):\n",
        "        return self.a + o.a\n",
        "ob1 = A(1)\n",
        "ob2 = A(2)\n",
        "ob3 = A(\"Geeks\")\n",
        "ob4 = A(\"For\")\n",
        "print(ob1 + ob2)\n",
        "print(ob3 + ob4)"
      ],
      "metadata": {
        "colab": {
          "base_uri": "https://localhost:8080/"
        },
        "id": "E6HZxeYBnsSa",
        "outputId": "84ef4e9d-1f48-4c59-a005-b9842df9c9d0"
      },
      "execution_count": null,
      "outputs": [
        {
          "output_type": "stream",
          "name": "stdout",
          "text": [
            "3\n",
            "GeeksFor\n"
          ]
        }
      ]
    },
    {
      "cell_type": "code",
      "source": [
        "class A:\n",
        "    def __init__(self, a):\n",
        "        self.a = a\n",
        "\n",
        "ob1 = A(1)\n",
        "ob2 = A(2)\n",
        "ob3 = A(\"Geeks\")\n",
        "ob4 = A(\"For\")\n",
        "print(ob1 + ob2)\n",
        "print(ob3 + ob4)"
      ],
      "metadata": {
        "colab": {
          "base_uri": "https://localhost:8080/",
          "height": 193
        },
        "id": "odwWqrORt3ng",
        "outputId": "e902d941-9d04-4a2c-d27c-5d7d524233ae"
      },
      "execution_count": null,
      "outputs": [
        {
          "output_type": "error",
          "ename": "TypeError",
          "evalue": "unsupported operand type(s) for +: 'A' and 'A'",
          "traceback": [
            "\u001b[0;31m---------------------------------------------------------------------------\u001b[0m",
            "\u001b[0;31mTypeError\u001b[0m                                 Traceback (most recent call last)",
            "\u001b[0;32m<ipython-input-14-265721edea48>\u001b[0m in \u001b[0;36m<cell line: 9>\u001b[0;34m()\u001b[0m\n\u001b[1;32m      7\u001b[0m \u001b[0mob3\u001b[0m \u001b[0;34m=\u001b[0m \u001b[0mA\u001b[0m\u001b[0;34m(\u001b[0m\u001b[0;34m\"Geeks\"\u001b[0m\u001b[0;34m)\u001b[0m\u001b[0;34m\u001b[0m\u001b[0;34m\u001b[0m\u001b[0m\n\u001b[1;32m      8\u001b[0m \u001b[0mob4\u001b[0m \u001b[0;34m=\u001b[0m \u001b[0mA\u001b[0m\u001b[0;34m(\u001b[0m\u001b[0;34m\"For\"\u001b[0m\u001b[0;34m)\u001b[0m\u001b[0;34m\u001b[0m\u001b[0;34m\u001b[0m\u001b[0m\n\u001b[0;32m----> 9\u001b[0;31m \u001b[0mprint\u001b[0m\u001b[0;34m(\u001b[0m\u001b[0mob1\u001b[0m \u001b[0;34m+\u001b[0m \u001b[0mob2\u001b[0m\u001b[0;34m)\u001b[0m\u001b[0;34m\u001b[0m\u001b[0;34m\u001b[0m\u001b[0m\n\u001b[0m\u001b[1;32m     10\u001b[0m \u001b[0mprint\u001b[0m\u001b[0;34m(\u001b[0m\u001b[0mob3\u001b[0m \u001b[0;34m+\u001b[0m \u001b[0mob4\u001b[0m\u001b[0;34m)\u001b[0m\u001b[0;34m\u001b[0m\u001b[0;34m\u001b[0m\u001b[0m\n",
            "\u001b[0;31mTypeError\u001b[0m: unsupported operand type(s) for +: 'A' and 'A'"
          ]
        }
      ]
    },
    {
      "cell_type": "markdown",
      "source": [
        "Iterator and Generator"
      ],
      "metadata": {
        "id": "KjRxmbsPvQM-"
      }
    },
    {
      "cell_type": "code",
      "source": [
        "next(\"GFG\")\n",
        "# will throw an error as string is iterable not iterator object"
      ],
      "metadata": {
        "colab": {
          "base_uri": "https://localhost:8080/",
          "height": 159
        },
        "id": "JER_K_8nt8MU",
        "outputId": "60ce5f5e-7935-42d2-f054-7e31e9553810"
      },
      "execution_count": null,
      "outputs": [
        {
          "output_type": "error",
          "ename": "TypeError",
          "evalue": "'str' object is not an iterator",
          "traceback": [
            "\u001b[0;31m---------------------------------------------------------------------------\u001b[0m",
            "\u001b[0;31mTypeError\u001b[0m                                 Traceback (most recent call last)",
            "\u001b[0;32m<ipython-input-16-26b229656fac>\u001b[0m in \u001b[0;36m<cell line: 1>\u001b[0;34m()\u001b[0m\n\u001b[0;32m----> 1\u001b[0;31m \u001b[0mnext\u001b[0m\u001b[0;34m(\u001b[0m\u001b[0;34m\"GFG\"\u001b[0m\u001b[0;34m)\u001b[0m\u001b[0;34m\u001b[0m\u001b[0;34m\u001b[0m\u001b[0m\n\u001b[0m\u001b[1;32m      2\u001b[0m \u001b[0;31m# will throw an error as string is iterable not iterator object\u001b[0m\u001b[0;34m\u001b[0m\u001b[0;34m\u001b[0m\u001b[0m\n",
            "\u001b[0;31mTypeError\u001b[0m: 'str' object is not an iterator"
          ]
        }
      ]
    },
    {
      "cell_type": "code",
      "source": [
        "s=\"GFG\"\n",
        "s=iter(s)\n",
        "print(s)\n",
        "print(next(s))\n",
        "print(next(s))\n",
        "print(next(s))"
      ],
      "metadata": {
        "colab": {
          "base_uri": "https://localhost:8080/"
        },
        "id": "1d5pnoQBvSb5",
        "outputId": "bd79a8df-c784-444d-988d-fc8d0f068f3f"
      },
      "execution_count": null,
      "outputs": [
        {
          "output_type": "stream",
          "name": "stdout",
          "text": [
            "<str_iterator object at 0x7c1bd6ca6ec0>\n",
            "G\n",
            "F\n",
            "G\n"
          ]
        }
      ]
    },
    {
      "cell_type": "code",
      "source": [
        "class Counter:\n",
        "    def __init__(self, start, end):\n",
        "        self.num = start\n",
        "        self.end = end\n",
        "\n",
        "    def __iter__(self):\n",
        "        return self\n",
        "\n",
        "    def __next__(self):\n",
        "        if self.num > self.end:\n",
        "            raise StopIteration\n",
        "        else:\n",
        "            self.num += 1\n",
        "            return self.num - 1\n",
        "\n",
        "# Driver code\n",
        "if __name__ == '__main__' :\n",
        "    a, b = 2, 5\n",
        "    c1 = Counter(a, b)\n",
        "    c2 = Counter(a, b)\n",
        "\n",
        "    # Way 1-to print the range without iter()\n",
        "    print (\"Print the range without iter()\")\n",
        "\n",
        "    for i in c1:\n",
        "        print (\"Eating more Pizzas, counting \", i, end =\"\\n\")\n",
        "\n",
        "    print (\"\\nPrint the range using iter()\\n\")\n",
        "\n",
        "    # Way 2- using iter()\n",
        "    obj = iter(c2)\n",
        "    try:\n",
        "        while True: # Print till error raised\n",
        "            print (\"Eating more Pizzas, counting \", next(obj))\n",
        "    except:\n",
        "        # when StopIteration raised, Print custom message\n",
        "        print (\"\\nDead on overfood, GAME OVER\")"
      ],
      "metadata": {
        "colab": {
          "base_uri": "https://localhost:8080/"
        },
        "id": "7MBYwFK-vegC",
        "outputId": "b5a221e3-023b-4f0f-91b2-e69aa55a5865"
      },
      "execution_count": null,
      "outputs": [
        {
          "output_type": "stream",
          "name": "stdout",
          "text": [
            "Print the range without iter()\n",
            "Eating more Pizzas, counting  2\n",
            "Eating more Pizzas, counting  3\n",
            "Eating more Pizzas, counting  4\n",
            "Eating more Pizzas, counting  5\n",
            "\n",
            "Print the range using iter()\n",
            "\n",
            "Eating more Pizzas, counting  2\n",
            "Eating more Pizzas, counting  3\n",
            "Eating more Pizzas, counting  4\n",
            "Eating more Pizzas, counting  5\n",
            "\n",
            "Dead on overfood, GAME OVER\n"
          ]
        }
      ]
    },
    {
      "cell_type": "markdown",
      "source": [
        "Python Closures:\n",
        "A Closure in Python is a function object that remembers values in enclosing scopes even if they are not present in memory."
      ],
      "metadata": {
        "id": "QCpJu5wwyDok"
      }
    },
    {
      "cell_type": "code",
      "source": [
        "# Python program to illustrate\n",
        "# closures\n",
        "def outerFunction():\n",
        "  text = \"hello\"\n",
        "\n",
        "  def innerFunction(name):\n",
        "    print(text + name)\n",
        "\n",
        "\t# Note we are returning function\n",
        "\t# WITHOUT parenthesis\n",
        "  return innerFunction\n",
        "\n",
        "if __name__ == '__main__':\n",
        "\tmyFunction = outerFunction()\n",
        "\tmyFunction('shubham')\n"
      ],
      "metadata": {
        "id": "i9K1fbzOw-m1",
        "colab": {
          "base_uri": "https://localhost:8080/"
        },
        "outputId": "565b5759-6d8c-41cc-98be-da43c5fe5120"
      },
      "execution_count": 7,
      "outputs": [
        {
          "output_type": "stream",
          "name": "stdout",
          "text": [
            "helloshubham\n"
          ]
        }
      ]
    },
    {
      "cell_type": "markdown",
      "source": [
        "Decorators are a very powerful and useful tool in Python since it allows programmers to modify the behaviour of a function or class. Decorators allow us to wrap another function in order to extend the behaviour of the wrapped function, without permanently modifying it. But before diving deep into decorators let us understand some concepts that will come in handy in learning the decorators."
      ],
      "metadata": {
        "id": "CJJ_Do6L3W5m"
      }
    },
    {
      "cell_type": "code",
      "source": [
        "# Python program to illustrate functions\n",
        "# Functions can return another function\n",
        "\n",
        "def create_adder(x):\n",
        "    def adder(y):\n",
        "        return x+y\n",
        "\n",
        "    return adder\n",
        "\n",
        "add_15 = create_adder(15)\n",
        "\n",
        "print(add_15(10))"
      ],
      "metadata": {
        "colab": {
          "base_uri": "https://localhost:8080/"
        },
        "id": "1VLb2heTzbn-",
        "outputId": "5610dead-1fb8-4735-b26c-90775f2607ad"
      },
      "execution_count": 8,
      "outputs": [
        {
          "output_type": "stream",
          "name": "stdout",
          "text": [
            "25\n"
          ]
        }
      ]
    },
    {
      "cell_type": "code",
      "source": [
        "# importing libraries\n",
        "import time\n",
        "import math\n",
        "\n",
        "# decorator to calculate duration\n",
        "# taken by any function.\n",
        "def calculate_time(func):\n",
        "\n",
        "    # added arguments inside the inner1,\n",
        "    # if function takes any arguments,\n",
        "    # can be added like this.\n",
        "    def inner1(*args, **kwargs):\n",
        "\n",
        "        # storing time before function execution\n",
        "        begin = time.time()\n",
        "\n",
        "        func(*args, **kwargs)\n",
        "\n",
        "        # storing time after function execution\n",
        "        end = time.time()\n",
        "        print(\"Total time taken in : \", func.__name__, end - begin)\n",
        "\n",
        "    return inner1\n",
        "\n",
        "\n",
        "\n",
        "# this can be added to any function present,\n",
        "# in this case to calculate a factorial\n",
        "@calculate_time\n",
        "def factorial(num):\n",
        "\n",
        "    # sleep 2 seconds because it takes very less time\n",
        "    # so that you can see the actual difference\n",
        "    time.sleep(2)\n",
        "    print(math.factorial(num))\n",
        "\n",
        "# calling the function.\n",
        "factorial(10)\n"
      ],
      "metadata": {
        "colab": {
          "base_uri": "https://localhost:8080/"
        },
        "id": "yTAjukuEz1It",
        "outputId": "6e913719-fc35-485c-e913-cab91c8ea9e9"
      },
      "execution_count": 9,
      "outputs": [
        {
          "output_type": "stream",
          "name": "stdout",
          "text": [
            "3628800\n",
            "Total time taken in :  factorial 2.002244472503662\n"
          ]
        }
      ]
    },
    {
      "cell_type": "code",
      "source": [
        "message = \"Welcome to GeeksforGeeks\"\n",
        "message[0] = 'p'\n",
        "print(message)"
      ],
      "metadata": {
        "colab": {
          "base_uri": "https://localhost:8080/",
          "height": 176
        },
        "id": "PxYEZkFx9-q5",
        "outputId": "51b82f2a-c087-4151-f590-e5f6918a6802"
      },
      "execution_count": 10,
      "outputs": [
        {
          "output_type": "error",
          "ename": "TypeError",
          "evalue": "'str' object does not support item assignment",
          "traceback": [
            "\u001b[0;31m---------------------------------------------------------------------------\u001b[0m",
            "\u001b[0;31mTypeError\u001b[0m                                 Traceback (most recent call last)",
            "\u001b[0;32m<ipython-input-10-f4ab0577dff8>\u001b[0m in \u001b[0;36m<cell line: 2>\u001b[0;34m()\u001b[0m\n\u001b[1;32m      1\u001b[0m \u001b[0mmessage\u001b[0m \u001b[0;34m=\u001b[0m \u001b[0;34m\"Welcome to GeeksforGeeks\"\u001b[0m\u001b[0;34m\u001b[0m\u001b[0;34m\u001b[0m\u001b[0m\n\u001b[0;32m----> 2\u001b[0;31m \u001b[0mmessage\u001b[0m\u001b[0;34m[\u001b[0m\u001b[0;36m0\u001b[0m\u001b[0;34m]\u001b[0m \u001b[0;34m=\u001b[0m \u001b[0;34m'p'\u001b[0m\u001b[0;34m\u001b[0m\u001b[0;34m\u001b[0m\u001b[0m\n\u001b[0m\u001b[1;32m      3\u001b[0m \u001b[0mprint\u001b[0m\u001b[0;34m(\u001b[0m\u001b[0mmessage\u001b[0m\u001b[0;34m)\u001b[0m\u001b[0;34m\u001b[0m\u001b[0;34m\u001b[0m\u001b[0m\n",
            "\u001b[0;31mTypeError\u001b[0m: 'str' object does not support item assignment"
          ]
        }
      ]
    },
    {
      "cell_type": "code",
      "source": [],
      "metadata": {
        "id": "QYlilbEo9_AD"
      },
      "execution_count": null,
      "outputs": []
    }
  ]
}